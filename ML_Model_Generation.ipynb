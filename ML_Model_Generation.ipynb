{
  "nbformat": 4,
  "nbformat_minor": 0,
  "metadata": {
    "colab": {
      "provenance": [],
      "authorship_tag": "ABX9TyMDjwjgx3sin/4BZNmizMbO",
      "include_colab_link": true
    },
    "kernelspec": {
      "name": "python3",
      "display_name": "Python 3"
    },
    "language_info": {
      "name": "python"
    }
  },
  "cells": [
    {
      "cell_type": "markdown",
      "metadata": {
        "id": "view-in-github",
        "colab_type": "text"
      },
      "source": [
        "<a href=\"https://colab.research.google.com/github/AakashPuthussery/Drug-Severity-Prediction-RF/blob/main/ML_Model_Generation.ipynb\" target=\"_parent\"><img src=\"https://colab.research.google.com/assets/colab-badge.svg\" alt=\"Open In Colab\"/></a>"
      ]
    },
    {
      "cell_type": "code",
      "execution_count": 2,
      "metadata": {
        "colab": {
          "base_uri": "https://localhost:8080/"
        },
        "id": "kW_tiEYYhPak",
        "outputId": "291f48c2-ec47-47a4-cb7b-4acfbc56f0fb"
      },
      "outputs": [
        {
          "output_type": "stream",
          "name": "stdout",
          "text": [
            "Accuracy: 0.66\n",
            "Classification Report:\n",
            "              precision    recall  f1-score   support\n",
            "\n",
            "           0       0.68      0.91      0.78       132\n",
            "           1       0.50      0.18      0.26        68\n",
            "\n",
            "    accuracy                           0.66       200\n",
            "   macro avg       0.59      0.54      0.52       200\n",
            "weighted avg       0.62      0.66      0.60       200\n",
            "\n"
          ]
        }
      ],
      "source": [
        "import pandas as pd\n",
        "from sklearn.model_selection import train_test_split\n",
        "from sklearn.preprocessing import LabelEncoder, StandardScaler\n",
        "from sklearn.ensemble import RandomForestClassifier\n",
        "from sklearn.metrics import classification_report, accuracy_score\n",
        "\n",
        "# Load the dataset\n",
        "file_path = '/content/synthetic_genetic_data.csv'\n",
        "data = pd.read_csv(file_path)\n",
        "\n",
        "# Data Preprocessing\n",
        "# Encode 'Gender' using LabelEncoder\n",
        "label_encoder = LabelEncoder()\n",
        "data['Gender'] = label_encoder.fit_transform(data['Gender'])\n",
        "\n",
        "# Split the data into features and target variable\n",
        "X = data.drop('Addiction_Risk', axis=1)\n",
        "y = data['Addiction_Risk']\n",
        "\n",
        "# Scale numerical features (optional, but recommended for some models)\n",
        "scaler = StandardScaler()\n",
        "X_scaled = scaler.fit_transform(X)\n",
        "\n",
        "# Split the dataset into training and testing sets\n",
        "X_train, X_test, y_train, y_test = train_test_split(X_scaled, y, test_size=0.2, random_state=42)\n",
        "\n",
        "# Model Training\n",
        "# Using Random Forest Classifier\n",
        "model = RandomForestClassifier(random_state=42)\n",
        "model.fit(X_train, y_train)\n",
        "\n",
        "# Model Evaluation\n",
        "# Make predictions on the test set\n",
        "y_pred = model.predict(X_test)\n",
        "\n",
        "# Evaluate the model\n",
        "accuracy = accuracy_score(y_test, y_pred)\n",
        "report = classification_report(y_test, y_pred)\n",
        "\n",
        "print(f\"Accuracy: {accuracy:.2f}\")\n",
        "print(\"Classification Report:\")\n",
        "print(report)\n"
      ]
    },
    {
      "cell_type": "code",
      "source": [
        "# Function to predict risk based on new input data\n",
        "def predict_risk(new_data):\n",
        "    # Ensure the new data is a DataFrame\n",
        "    if isinstance(new_data, dict):\n",
        "        new_data = pd.DataFrame([new_data])\n",
        "    elif isinstance(new_data, list):\n",
        "        new_data = pd.DataFrame(new_data)\n",
        "\n",
        "    # Encode and scale the new data\n",
        "    new_data['Gender'] = label_encoder.transform(new_data['Gender'])\n",
        "    new_data_scaled = scaler.transform(new_data)\n",
        "\n",
        "    # Predict risk\n",
        "    predictions = model.predict(new_data_scaled)\n",
        "    return predictions\n",
        "\n",
        "# Example usage\n",
        "new_input = {\n",
        "    'DRD2': 2,\n",
        "    'OPRM1': 0,\n",
        "    'SLC6A4': 2,\n",
        "    'COMT': 2,\n",
        "    'MAOA': 0,\n",
        "    'Age': 52,\n",
        "    'Gender': 'Female'\n",
        "}\n",
        "predicted_risk = predict_risk(new_input)\n",
        "print(\"Predicted Addiction Risk:\", predicted_risk)"
      ],
      "metadata": {
        "colab": {
          "base_uri": "https://localhost:8080/"
        },
        "id": "VBuR2E1KiDwW",
        "outputId": "c8152839-45ce-4a3c-f984-fd3cd7b7c9e3"
      },
      "execution_count": 5,
      "outputs": [
        {
          "output_type": "stream",
          "name": "stdout",
          "text": [
            "Predicted Addiction Risk: [1]\n"
          ]
        }
      ]
    },
    {
      "cell_type": "code",
      "source": [
        "import joblib\n",
        "\n",
        "# Save the trained model to a file\n",
        "joblib.dump(model, 'addiction_risk_model.pkl')\n",
        "\n",
        "# Save the scaler and label encoder as well\n",
        "joblib.dump(scaler, 'scaler.pkl')\n",
        "joblib.dump(label_encoder, 'label_encoder.pkl')\n"
      ],
      "metadata": {
        "colab": {
          "base_uri": "https://localhost:8080/"
        },
        "id": "RGMDgPollDck",
        "outputId": "afc10219-383c-4183-8831-086f4d22c861"
      },
      "execution_count": 6,
      "outputs": [
        {
          "output_type": "execute_result",
          "data": {
            "text/plain": [
              "['label_encoder.pkl']"
            ]
          },
          "metadata": {},
          "execution_count": 6
        }
      ]
    }
  ]
}